{
 "cells": [
  {
   "cell_type": "markdown",
   "metadata": {},
   "source": [
    "# Exercise 3 MD Simulation\n",
    "\n",
    "## Exersise 3. 1 \n",
    "Make sure that velocity verlet algorithm is more accurate than euler algorithm."
   ]
  },
  {
   "cell_type": "code",
   "execution_count": 1,
   "metadata": {
    "collapsed": true
   },
   "outputs": [],
   "source": [
    "import numpy\n",
    "import matplotlib.pyplot as plt"
   ]
  },
  {
   "cell_type": "markdown",
   "metadata": {},
   "source": [
    "### Functions definitions"
   ]
  },
  {
   "cell_type": "code",
   "execution_count": 2,
   "metadata": {
    "collapsed": true
   },
   "outputs": [],
   "source": [
    "#Initialization of velocities and positions of particles\n",
    "def init(n_particles, L_sys, Temp):\n",
    "    numpy.random.seed(1292)\n",
    "    position = L_sys*numpy.random.rand(n_particles, 3)\n",
    "    velosity = numpy.random.normal(0, 3.*Temp, (n_particles, 3))\n",
    "    \n",
    "    v_ave = sum(velosity)/n_particles\n",
    "    velosity -= v_ave\n",
    "    v_variance = numpy.var(velosity, axis = 0)\n",
    "    velosity *= (3*Temp/sum(v_variance))**0.5\n",
    "\n",
    "    return position, velosity"
   ]
  },
  {
   "cell_type": "code",
   "execution_count": 3,
   "metadata": {
    "collapsed": true
   },
   "outputs": [],
   "source": [
    "#Determine the forces of LJ potential\n",
    "def force(position, L_sys):\n",
    "    energy_p = 0.\n",
    "    n_par = len(position)\n",
    "    rc2 = 2.**(1./3.)\n",
    "    forces = numpy.zeros((n_par, 3))\n",
    "    for i in xrange(n_par - 1):\n",
    "        for j in xrange(i + 1, n_par):\n",
    "            r  = position[i] - position[j]\n",
    "            r -= L_sys*numpy.rint(r/L_sys) #Periodic boundary conditions\n",
    "            r2 = numpy.sum(numpy.square(r))\n",
    "            if r2 < rc2:\n",
    "                r2i = 1./r2\n",
    "                r6i = r2i**3\n",
    "                ff = 48.*r2i*r6i*(r6i - 0.5)\n",
    "                r *= ff\n",
    "                forces[i] += r\n",
    "                forces[j] -= r\n",
    "                energy_p += 4.*r6i*(r6i - 1.) + 1.\n",
    "    return forces, energy_p"
   ]
  },
  {
   "cell_type": "code",
   "execution_count": 4,
   "metadata": {
    "collapsed": true
   },
   "outputs": [],
   "source": [
    "def velocity_verlet(position, velocity, forces, L_sys, dt):\n",
    "    position = position + dt*velocity\n",
    "    position += 0.5*dt**2*forces\n",
    "    position = (position + 2.*L_sys)%L_sys #Periodic boundary conditions\n",
    "    velocity += 0.5*dt*forces\n",
    "    forces, energy_p = force(position, L_sys)\n",
    "    velocity += 0.5*dt*forces\n",
    "    energy_k = 0.5*sum(sum(numpy.square(velocity)))\n",
    "    return position, velocity, forces, energy_k, energy_p"
   ]
  },
  {
   "cell_type": "code",
   "execution_count": 5,
   "metadata": {
    "collapsed": true
   },
   "outputs": [],
   "source": [
    "def euler(position, velocity, forces, L_sys, dt):\n",
    "    forces, energy_p = force(position, L_sys)\n",
    "    position = position + dt*velocity\n",
    "    position = (position + 2.*L_sys)%L_sys #Periodic boundary conditions\n",
    "    velocity += dt*forces\n",
    "    energy_k = 0.5*sum(sum(numpy.square(velocity)))\n",
    "    return position, velocity, forces, energy_k, energy_p"
   ]
  },
  {
   "cell_type": "code",
   "execution_count": 7,
   "metadata": {
    "collapsed": false
   },
   "outputs": [
    {
     "data": {
      "image/png": "[encoded data removed]",
      "text/plain": [
       "<matplotlib.figure.Figure at 0xad1cf5ac>"
      ]
     },
     "metadata": {},
     "output_type": "display_data"
    }
   ],
   "source": [
    "#Parameter setting\n",
    "n_particles = 20     #The number of particles\n",
    "L_sys       = 10.    #The length of system\n",
    "Temperature = 1.     #The temperature of system\n",
    "dt          = 0.005  #The incremantation of the time per step\n",
    "n_step      = 200   #The total time step\n",
    "\n",
    "#Initialization\n",
    "position, velocity = init(n_particles, L_sys, Temperature)\n",
    "forces, energy_p = force(position, L_sys)\n",
    "\n",
    "data_velocity_verlet = []\n",
    "#MD loop of velocity verlet algorithm\n",
    "for i in xrange(n_step):\n",
    "    position, velocity, forces, energy_k, energy_p = velocity_verlet(position, velocity, forces, L_sys, dt)\n",
    "    data_velocity_verlet.append(energy_k + energy_p)\n",
    "\n",
    "position, velocity = init(n_particles, L_sys, Temperature)\n",
    "forces, energy_p = force(position, L_sys)\n",
    "\n",
    "data_euler = []\n",
    "#MD loop of euler algorithm\n",
    "for i in xrange(n_step):\n",
    "    position, velocity, forces, energy_k, energy_p = euler(position, velocity, forces, L_sys, dt)\n",
    "    data_euler.append(energy_k + energy_p)\n",
    "\n",
    "#Drawing the graph\n",
    "plt.xlabel('Step')\n",
    "plt.ylabel('Energy')\n",
    "plt.plot(data_velocity_verlet, 'k', label=b'Velocity Verlet')\n",
    "plt.plot(data_euler, 'r', label=b'Euler')\n",
    "plt.legend(loc='upper left')\n",
    "plt.show()"
   ]
  },
  {
   "cell_type": "markdown",
   "metadata": {},
   "source": [
    "## Exercise 3. 2 \n",
    "Demonstrate that velocity verlet algorithm satifies the symplectic condition."
   ]
  },
  {
   "cell_type": "code",
   "execution_count": null,
   "metadata": {
    "collapsed": true
   },
   "outputs": [],
   "source": []
  }
 ],
 "metadata": {
  "anaconda-cloud": {},
  "kernelspec": {
   "display_name": "Python [default]",
   "language": "python",
   "name": "python2"
  },
  "language_info": {
   "codemirror_mode": {
    "name": "ipython",
    "version": 2
   },
   "file_extension": ".py",
   "mimetype": "text/x-python",
   "name": "python",
   "nbconvert_exporter": "python",
   "pygments_lexer": "ipython2",
   "version": "2.7.12"
  }
 },
 "nbformat": 4,
 "nbformat_minor": 1
}
